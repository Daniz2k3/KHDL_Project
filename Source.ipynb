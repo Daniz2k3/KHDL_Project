{
 "cells": [
  {
   "cell_type": "code",
   "execution_count": 213,
   "metadata": {},
   "outputs": [],
   "source": [
    "import torch\n",
    "import torch.nn as nn\n",
    "import torch.optim as optim\n",
    "import numpy as np \n",
    "import pandas as pd\n",
    "import matplotlib.pyplot as plt\n",
    "import torch.nn.functional as F\n",
    "import os"
   ]
  },
  {
   "cell_type": "code",
   "execution_count": 214,
   "metadata": {},
   "outputs": [],
   "source": [
    "\n",
    "# path = 'D:/Daniel/Lab_KHDL/Final_Project/Data/'\n",
    "# frames = []   \n",
    "# for file in os.listdir(path):\n",
    "#     if file.endswith('.csv'):\n",
    "#         file_path = os.path.join(path, file)\n",
    "#         df1 = pd.read_csv(file_path, encoding='utf-8-sig')\n",
    "#         frames.append(df1)\n",
    "\n",
    "# result = pd.concat(frames, ignore_index=True)\n",
    "\n",
    "# result.to_csv('dataFinal.csv', index=False, encoding='utf-8-sig')"
   ]
  },
  {
   "cell_type": "code",
   "execution_count": 215,
   "metadata": {},
   "outputs": [
    {
     "data": {
      "text/html": [
       "<div>\n",
       "<style scoped>\n",
       "    .dataframe tbody tr th:only-of-type {\n",
       "        vertical-align: middle;\n",
       "    }\n",
       "\n",
       "    .dataframe tbody tr th {\n",
       "        vertical-align: top;\n",
       "    }\n",
       "\n",
       "    .dataframe thead th {\n",
       "        text-align: right;\n",
       "    }\n",
       "</style>\n",
       "<table border=\"1\" class=\"dataframe\">\n",
       "  <thead>\n",
       "    <tr style=\"text-align: right;\">\n",
       "      <th></th>\n",
       "      <th>Tiêu đề</th>\n",
       "      <th>Diện tích(m2)</th>\n",
       "      <th>Số phòng ngủ</th>\n",
       "      <th>Số Phòng WC</th>\n",
       "      <th>Thời gian đăng</th>\n",
       "      <th>Tỉnh/Thành</th>\n",
       "      <th>Quận/Huyện</th>\n",
       "      <th>Hướng nhà</th>\n",
       "      <th>Hướng ban công</th>\n",
       "      <th>Loại nhà</th>\n",
       "      <th>Giá</th>\n",
       "      <th>Link</th>\n",
       "      <th>Số phòng WC</th>\n",
       "    </tr>\n",
       "  </thead>\n",
       "  <tbody>\n",
       "    <tr>\n",
       "      <th>0</th>\n",
       "      <td>Chưa tới 30tr/m2 - Hàng ngộp bank BAO ĐẦU TƯ ...</td>\n",
       "      <td>150.0</td>\n",
       "      <td>2.0</td>\n",
       "      <td>1.0</td>\n",
       "      <td>10/12/2023</td>\n",
       "      <td>TP Hồ Chí Minh</td>\n",
       "      <td>Nhà Bè</td>\n",
       "      <td>NaN</td>\n",
       "      <td>NaN</td>\n",
       "      <td>Bán Nhà riêng</td>\n",
       "      <td>3.899000e+09</td>\n",
       "      <td>https://batdongsan.vn/chua-toi-30trm2-hang-ngo...</td>\n",
       "      <td>NaN</td>\n",
       "    </tr>\n",
       "    <tr>\n",
       "      <th>1</th>\n",
       "      <td>Bán nhà HXH Âu Cơ Phường 9 Tân Bình, 51m2 3 Tầ...</td>\n",
       "      <td>51.0</td>\n",
       "      <td>NaN</td>\n",
       "      <td>NaN</td>\n",
       "      <td>10/12/2023</td>\n",
       "      <td>TP Hồ Chí Minh</td>\n",
       "      <td>Tân Bình</td>\n",
       "      <td>NaN</td>\n",
       "      <td>NaN</td>\n",
       "      <td>Bán Nhà riêng</td>\n",
       "      <td>5.500000e+00</td>\n",
       "      <td>https://batdongsan.vn/ban-nha-hxh-au-co-phuong...</td>\n",
       "      <td>NaN</td>\n",
       "    </tr>\n",
       "    <tr>\n",
       "      <th>2</th>\n",
       "      <td>SÁT MẶT TIỀN PHAN ĐĂNG LƯU, PHƯỜNG 7, PHÚ NHUẬ...</td>\n",
       "      <td>45.0</td>\n",
       "      <td>2.0</td>\n",
       "      <td>2.0</td>\n",
       "      <td>10/12/2023</td>\n",
       "      <td>TP Hồ Chí Minh</td>\n",
       "      <td>Phú Nhuận</td>\n",
       "      <td>NaN</td>\n",
       "      <td>NaN</td>\n",
       "      <td>Bán Nhà</td>\n",
       "      <td>4.600000e+00</td>\n",
       "      <td>https://batdongsan.vn/sat-mat-tien-phan-dang-l...</td>\n",
       "      <td>NaN</td>\n",
       "    </tr>\n",
       "    <tr>\n",
       "      <th>3</th>\n",
       "      <td>CHỦ GẤP BÁN TRƯỚC TẾT LÊ HỒNG PHONG QUẬN 5 RA ...</td>\n",
       "      <td>41.0</td>\n",
       "      <td>NaN</td>\n",
       "      <td>NaN</td>\n",
       "      <td>10/12/2023</td>\n",
       "      <td>TP Hồ Chí Minh</td>\n",
       "      <td>Quận 5</td>\n",
       "      <td>NaN</td>\n",
       "      <td>NaN</td>\n",
       "      <td>Bán Nhà riêng</td>\n",
       "      <td>7.350000e+00</td>\n",
       "      <td>https://batdongsan.vn/chu-gap-ban-truoc-tet-le...</td>\n",
       "      <td>NaN</td>\n",
       "    </tr>\n",
       "    <tr>\n",
       "      <th>4</th>\n",
       "      <td>LŨY BÁN BÍCH,TÂN PHÚ-DIỆN TÍCH KHỦNG 96M2 ( 4....</td>\n",
       "      <td>96.0</td>\n",
       "      <td>2.0</td>\n",
       "      <td>1.0</td>\n",
       "      <td>07/12/2023</td>\n",
       "      <td>TP Hồ Chí Minh</td>\n",
       "      <td>Tân Phú</td>\n",
       "      <td>NaN</td>\n",
       "      <td>NaN</td>\n",
       "      <td>Bán Nhà riêng</td>\n",
       "      <td>NaN</td>\n",
       "      <td>https://batdongsan.vn/luy-ban-bichtan-phu-dien...</td>\n",
       "      <td>NaN</td>\n",
       "    </tr>\n",
       "  </tbody>\n",
       "</table>\n",
       "</div>"
      ],
      "text/plain": [
       "                                             Tiêu đề  Diện tích(m2)  \\\n",
       "0  Chưa tới 30tr/m2 - Hàng ngộp bank BAO ĐẦU TƯ ...          150.0   \n",
       "1  Bán nhà HXH Âu Cơ Phường 9 Tân Bình, 51m2 3 Tầ...           51.0   \n",
       "2  SÁT MẶT TIỀN PHAN ĐĂNG LƯU, PHƯỜNG 7, PHÚ NHUẬ...           45.0   \n",
       "3  CHỦ GẤP BÁN TRƯỚC TẾT LÊ HỒNG PHONG QUẬN 5 RA ...           41.0   \n",
       "4  LŨY BÁN BÍCH,TÂN PHÚ-DIỆN TÍCH KHỦNG 96M2 ( 4....           96.0   \n",
       "\n",
       "   Số phòng ngủ  Số Phòng WC Thời gian đăng      Tỉnh/Thành Quận/Huyện  \\\n",
       "0           2.0          1.0     10/12/2023  TP Hồ Chí Minh     Nhà Bè   \n",
       "1           NaN          NaN     10/12/2023  TP Hồ Chí Minh   Tân Bình   \n",
       "2           2.0          2.0     10/12/2023  TP Hồ Chí Minh  Phú Nhuận   \n",
       "3           NaN          NaN     10/12/2023  TP Hồ Chí Minh     Quận 5   \n",
       "4           2.0          1.0     07/12/2023  TP Hồ Chí Minh    Tân Phú   \n",
       "\n",
       "  Hướng nhà Hướng ban công       Loại nhà           Giá  \\\n",
       "0       NaN            NaN  Bán Nhà riêng  3.899000e+09   \n",
       "1       NaN            NaN  Bán Nhà riêng  5.500000e+00   \n",
       "2       NaN            NaN        Bán Nhà  4.600000e+00   \n",
       "3       NaN            NaN  Bán Nhà riêng  7.350000e+00   \n",
       "4       NaN            NaN  Bán Nhà riêng           NaN   \n",
       "\n",
       "                                                Link  Số phòng WC  \n",
       "0  https://batdongsan.vn/chua-toi-30trm2-hang-ngo...          NaN  \n",
       "1  https://batdongsan.vn/ban-nha-hxh-au-co-phuong...          NaN  \n",
       "2  https://batdongsan.vn/sat-mat-tien-phan-dang-l...          NaN  \n",
       "3  https://batdongsan.vn/chu-gap-ban-truoc-tet-le...          NaN  \n",
       "4  https://batdongsan.vn/luy-ban-bichtan-phu-dien...          NaN  "
      ]
     },
     "execution_count": 215,
     "metadata": {},
     "output_type": "execute_result"
    }
   ],
   "source": [
    "df = pd.read_csv('D:\\Daniel\\Lab_KHDL\\Final_Project\\dataFinal.csv')\n",
    "df.head()"
   ]
  },
  {
   "cell_type": "code",
   "execution_count": 216,
   "metadata": {},
   "outputs": [
    {
     "name": "stdout",
     "output_type": "stream",
     "text": [
      "<class 'pandas.core.frame.DataFrame'>\n",
      "RangeIndex: 9809 entries, 0 to 9808\n",
      "Data columns (total 13 columns):\n",
      " #   Column          Non-Null Count  Dtype  \n",
      "---  ------          --------------  -----  \n",
      " 0   Tiêu đề         9805 non-null   object \n",
      " 1   Diện tích(m2)   8863 non-null   float64\n",
      " 2   Số phòng ngủ    6125 non-null   float64\n",
      " 3   Số Phòng WC     1393 non-null   float64\n",
      " 4   Thời gian đăng  9805 non-null   object \n",
      " 5   Tỉnh/Thành      9804 non-null   object \n",
      " 6   Quận/Huyện      9804 non-null   object \n",
      " 7   Hướng nhà       1341 non-null   object \n",
      " 8   Hướng ban công  851 non-null    object \n",
      " 9   Loại nhà        9804 non-null   object \n",
      " 10  Giá             8798 non-null   float64\n",
      " 11  Link            9809 non-null   object \n",
      " 12  Số phòng WC     4184 non-null   float64\n",
      "dtypes: float64(5), object(8)\n",
      "memory usage: 996.4+ KB\n"
     ]
    }
   ],
   "source": [
    "df.info()"
   ]
  },
  {
   "cell_type": "code",
   "execution_count": 217,
   "metadata": {},
   "outputs": [],
   "source": [
    "df = df.drop(df.columns[3], axis=1)"
   ]
  },
  {
   "cell_type": "code",
   "execution_count": 218,
   "metadata": {},
   "outputs": [
    {
     "name": "stdout",
     "output_type": "stream",
     "text": [
      "<class 'pandas.core.frame.DataFrame'>\n",
      "RangeIndex: 9809 entries, 0 to 9808\n",
      "Data columns (total 12 columns):\n",
      " #   Column          Non-Null Count  Dtype  \n",
      "---  ------          --------------  -----  \n",
      " 0   Tiêu đề         9805 non-null   object \n",
      " 1   Diện tích(m2)   8863 non-null   float64\n",
      " 2   Số phòng ngủ    6125 non-null   float64\n",
      " 3   Thời gian đăng  9805 non-null   object \n",
      " 4   Tỉnh/Thành      9804 non-null   object \n",
      " 5   Quận/Huyện      9804 non-null   object \n",
      " 6   Hướng nhà       1341 non-null   object \n",
      " 7   Hướng ban công  851 non-null    object \n",
      " 8   Loại nhà        9804 non-null   object \n",
      " 9   Giá             8798 non-null   float64\n",
      " 10  Link            9809 non-null   object \n",
      " 11  Số phòng WC     4184 non-null   float64\n",
      "dtypes: float64(4), object(8)\n",
      "memory usage: 919.7+ KB\n"
     ]
    }
   ],
   "source": [
    "df.info()"
   ]
  },
  {
   "cell_type": "code",
   "execution_count": 219,
   "metadata": {},
   "outputs": [],
   "source": [
    "df = df.drop(['Tiêu đề', 'Hướng nhà', 'Hướng ban công','Link'], axis=1)"
   ]
  },
  {
   "cell_type": "code",
   "execution_count": 220,
   "metadata": {},
   "outputs": [
    {
     "name": "stdout",
     "output_type": "stream",
     "text": [
      "<class 'pandas.core.frame.DataFrame'>\n",
      "Index: 4184 entries, 801 to 9808\n",
      "Data columns (total 8 columns):\n",
      " #   Column          Non-Null Count  Dtype  \n",
      "---  ------          --------------  -----  \n",
      " 0   Diện tích(m2)   4087 non-null   float64\n",
      " 1   Số phòng ngủ    4092 non-null   float64\n",
      " 2   Thời gian đăng  4184 non-null   object \n",
      " 3   Tỉnh/Thành      4184 non-null   object \n",
      " 4   Quận/Huyện      4184 non-null   object \n",
      " 5   Loại nhà        4184 non-null   object \n",
      " 6   Giá             3950 non-null   float64\n",
      " 7   Số phòng WC     4184 non-null   float64\n",
      "dtypes: float64(4), object(4)\n",
      "memory usage: 294.2+ KB\n"
     ]
    }
   ],
   "source": [
    "df = df.dropna(subset=['Số phòng WC'])\n",
    "df.info()"
   ]
  },
  {
   "cell_type": "code",
   "execution_count": 221,
   "metadata": {},
   "outputs": [
    {
     "name": "stdout",
     "output_type": "stream",
     "text": [
      "<class 'pandas.core.frame.DataFrame'>\n",
      "Index: 3950 entries, 801 to 9808\n",
      "Data columns (total 8 columns):\n",
      " #   Column          Non-Null Count  Dtype  \n",
      "---  ------          --------------  -----  \n",
      " 0   Diện tích(m2)   3906 non-null   float64\n",
      " 1   Số phòng ngủ    3871 non-null   float64\n",
      " 2   Thời gian đăng  3950 non-null   object \n",
      " 3   Tỉnh/Thành      3950 non-null   object \n",
      " 4   Quận/Huyện      3950 non-null   object \n",
      " 5   Loại nhà        3950 non-null   object \n",
      " 6   Giá             3950 non-null   float64\n",
      " 7   Số phòng WC     3950 non-null   float64\n",
      "dtypes: float64(4), object(4)\n",
      "memory usage: 277.7+ KB\n"
     ]
    }
   ],
   "source": [
    "df = df.dropna(subset=['Giá'])\n",
    "df.info()"
   ]
  },
  {
   "cell_type": "code",
   "execution_count": 222,
   "metadata": {},
   "outputs": [
    {
     "name": "stdout",
     "output_type": "stream",
     "text": [
      "<class 'pandas.core.frame.DataFrame'>\n",
      "Index: 3834 entries, 801 to 9808\n",
      "Data columns (total 8 columns):\n",
      " #   Column          Non-Null Count  Dtype  \n",
      "---  ------          --------------  -----  \n",
      " 0   Diện tích(m2)   3834 non-null   float64\n",
      " 1   Số phòng ngủ    3834 non-null   float64\n",
      " 2   Thời gian đăng  3834 non-null   object \n",
      " 3   Tỉnh/Thành      3834 non-null   object \n",
      " 4   Quận/Huyện      3834 non-null   object \n",
      " 5   Loại nhà        3834 non-null   object \n",
      " 6   Giá             3834 non-null   float64\n",
      " 7   Số phòng WC     3834 non-null   float64\n",
      "dtypes: float64(4), object(4)\n",
      "memory usage: 269.6+ KB\n"
     ]
    }
   ],
   "source": [
    "df = df.dropna(subset=['Số phòng ngủ'])\n",
    "df = df.dropna(subset=['Diện tích(m2)'])\n",
    "df.info()"
   ]
  },
  {
   "cell_type": "code",
   "execution_count": 223,
   "metadata": {},
   "outputs": [
    {
     "data": {
      "text/html": [
       "<div>\n",
       "<style scoped>\n",
       "    .dataframe tbody tr th:only-of-type {\n",
       "        vertical-align: middle;\n",
       "    }\n",
       "\n",
       "    .dataframe tbody tr th {\n",
       "        vertical-align: top;\n",
       "    }\n",
       "\n",
       "    .dataframe thead th {\n",
       "        text-align: right;\n",
       "    }\n",
       "</style>\n",
       "<table border=\"1\" class=\"dataframe\">\n",
       "  <thead>\n",
       "    <tr style=\"text-align: right;\">\n",
       "      <th></th>\n",
       "      <th>Diện tích(m2)</th>\n",
       "      <th>Số phòng ngủ</th>\n",
       "      <th>Thời gian đăng</th>\n",
       "      <th>Tỉnh/Thành</th>\n",
       "      <th>Quận/Huyện</th>\n",
       "      <th>Loại nhà</th>\n",
       "      <th>Số phòng WC</th>\n",
       "      <th>Giá</th>\n",
       "    </tr>\n",
       "  </thead>\n",
       "  <tbody>\n",
       "    <tr>\n",
       "      <th>801</th>\n",
       "      <td>36.0</td>\n",
       "      <td>3.0</td>\n",
       "      <td>22/11/2023</td>\n",
       "      <td>Hà Nội</td>\n",
       "      <td>Tây Hồ</td>\n",
       "      <td>Bán Nhà riêng</td>\n",
       "      <td>2.0</td>\n",
       "      <td>3.30</td>\n",
       "    </tr>\n",
       "    <tr>\n",
       "      <th>802</th>\n",
       "      <td>33.0</td>\n",
       "      <td>3.0</td>\n",
       "      <td>22/11/2023</td>\n",
       "      <td>Hà Nội</td>\n",
       "      <td>Hà Đông</td>\n",
       "      <td>Bán Nhà riêng</td>\n",
       "      <td>4.0</td>\n",
       "      <td>3.70</td>\n",
       "    </tr>\n",
       "    <tr>\n",
       "      <th>803</th>\n",
       "      <td>72.0</td>\n",
       "      <td>3.0</td>\n",
       "      <td>22/11/2023</td>\n",
       "      <td>TP Hồ Chí Minh</td>\n",
       "      <td>Tân Phú</td>\n",
       "      <td>Bán Nhà riêng</td>\n",
       "      <td>3.0</td>\n",
       "      <td>6.85</td>\n",
       "    </tr>\n",
       "    <tr>\n",
       "      <th>804</th>\n",
       "      <td>70.0</td>\n",
       "      <td>3.0</td>\n",
       "      <td>22/11/2023</td>\n",
       "      <td>Bình Dương</td>\n",
       "      <td>Dĩ An</td>\n",
       "      <td>Bán Nhà riêng</td>\n",
       "      <td>2.0</td>\n",
       "      <td>2.90</td>\n",
       "    </tr>\n",
       "    <tr>\n",
       "      <th>805</th>\n",
       "      <td>73.0</td>\n",
       "      <td>5.0</td>\n",
       "      <td>22/11/2023</td>\n",
       "      <td>TP Hồ Chí Minh</td>\n",
       "      <td>Gò Vấp</td>\n",
       "      <td>Bán Nhà riêng</td>\n",
       "      <td>6.0</td>\n",
       "      <td>9.00</td>\n",
       "    </tr>\n",
       "  </tbody>\n",
       "</table>\n",
       "</div>"
      ],
      "text/plain": [
       "     Diện tích(m2)  Số phòng ngủ Thời gian đăng      Tỉnh/Thành Quận/Huyện  \\\n",
       "801           36.0           3.0     22/11/2023          Hà Nội     Tây Hồ   \n",
       "802           33.0           3.0     22/11/2023          Hà Nội    Hà Đông   \n",
       "803           72.0           3.0     22/11/2023  TP Hồ Chí Minh    Tân Phú   \n",
       "804           70.0           3.0     22/11/2023      Bình Dương      Dĩ An   \n",
       "805           73.0           5.0     22/11/2023  TP Hồ Chí Minh     Gò Vấp   \n",
       "\n",
       "          Loại nhà  Số phòng WC   Giá  \n",
       "801  Bán Nhà riêng          2.0  3.30  \n",
       "802  Bán Nhà riêng          4.0  3.70  \n",
       "803  Bán Nhà riêng          3.0  6.85  \n",
       "804  Bán Nhà riêng          2.0  2.90  \n",
       "805  Bán Nhà riêng          6.0  9.00  "
      ]
     },
     "execution_count": 223,
     "metadata": {},
     "output_type": "execute_result"
    }
   ],
   "source": [
    "# Identify the 8th column\n",
    "col_to_move = df.columns[6]\n",
    "\n",
    "# Create a new list of columns with the 8th column at the end\n",
    "new_column_order = [col for col in df.columns if col != col_to_move] + [col_to_move]\n",
    "\n",
    "# Reorder the DataFrame\n",
    "df = df[new_column_order]\n",
    "\n",
    "df.head()"
   ]
  },
  {
   "cell_type": "code",
   "execution_count": 224,
   "metadata": {},
   "outputs": [
    {
     "name": "stderr",
     "output_type": "stream",
     "text": [
      "C:\\Users\\Daniel\\AppData\\Local\\Temp\\ipykernel_19464\\1265670633.py:3: UserWarning: \n",
      "\n",
      "`distplot` is a deprecated function and will be removed in seaborn v0.14.0.\n",
      "\n",
      "Please adapt your code to use either `displot` (a figure-level function with\n",
      "similar flexibility) or `histplot` (an axes-level function for histograms).\n",
      "\n",
      "For a guide to updating your code to use the new functions, please see\n",
      "https://gist.github.com/mwaskom/de44147ed2974457ad6372750bbe5751\n",
      "\n",
      "  sns.distplot(df['Giá'])\n"
     ]
    },
    {
     "data": {
      "text/plain": [
       "<Axes: xlabel='Giá', ylabel='Density'>"
      ]
     },
     "execution_count": 224,
     "metadata": {},
     "output_type": "execute_result"
    },
    {
     "data": {
      "image/png": "[encoded data removed]",
      "text/plain": [
       "<Figure size 640x480 with 1 Axes>"
      ]
     },
     "metadata": {},
     "output_type": "display_data"
    }
   ],
   "source": [
    "import seaborn as sns\n",
    "\n",
    "sns.distplot(df['Giá'])"
   ]
  },
  {
   "cell_type": "code",
   "execution_count": 225,
   "metadata": {},
   "outputs": [
    {
     "name": "stderr",
     "output_type": "stream",
     "text": [
      "C:\\Users\\Daniel\\AppData\\Local\\Temp\\ipykernel_19464\\4065486565.py:9: UserWarning: \n",
      "\n",
      "`distplot` is a deprecated function and will be removed in seaborn v0.14.0.\n",
      "\n",
      "Please adapt your code to use either `displot` (a figure-level function with\n",
      "similar flexibility) or `histplot` (an axes-level function for histograms).\n",
      "\n",
      "For a guide to updating your code to use the new functions, please see\n",
      "https://gist.github.com/mwaskom/de44147ed2974457ad6372750bbe5751\n",
      "\n",
      "  sns.distplot(df['Giá'])\n"
     ]
    },
    {
     "data": {
      "text/plain": [
       "<Axes: xlabel='Giá', ylabel='Density'>"
      ]
     },
     "execution_count": 225,
     "metadata": {},
     "output_type": "execute_result"
    },
    {
     "data": {
      "image/png": "[encoded data removed]",
      "text/plain": [
       "<Figure size 640x480 with 1 Axes>"
      ]
     },
     "metadata": {},
     "output_type": "display_data"
    }
   ],
   "source": [
    "Q1 = df['Giá'].quantile(0.25)\n",
    "Q3 = df['Giá'].quantile(0.75)\n",
    "IQR = Q3 - Q1\n",
    "\n",
    "upper_bound = Q3 + 1.5 * IQR\n",
    "\n",
    "df = df[df['Giá'] <= upper_bound]\n",
    "\n",
    "sns.distplot(df['Giá'])"
   ]
  },
  {
   "cell_type": "code",
   "execution_count": 226,
   "metadata": {},
   "outputs": [
    {
     "name": "stderr",
     "output_type": "stream",
     "text": [
      "C:\\Users\\Daniel\\AppData\\Local\\Temp\\ipykernel_19464\\276994574.py:1: DeprecationWarning: DataFrameGroupBy.apply operated on the grouping columns. This behavior is deprecated, and in a future version of pandas the grouping columns will be excluded from the operation. Either pass `include_groups=False` to exclude the groupings or explicitly select the grouping columns after groupby to silence this warning.\n",
      "  grouped_data = df.groupby(\"Tỉnh/Thành\").apply(lambda x: x['Giá'].sum() *1000 / x['Diện tích(m2)'].sum())\n"
     ]
    },
    {
     "data": {
      "text/html": [
       "<div>\n",
       "<style scoped>\n",
       "    .dataframe tbody tr th:only-of-type {\n",
       "        vertical-align: middle;\n",
       "    }\n",
       "\n",
       "    .dataframe tbody tr th {\n",
       "        vertical-align: top;\n",
       "    }\n",
       "\n",
       "    .dataframe thead th {\n",
       "        text-align: right;\n",
       "    }\n",
       "</style>\n",
       "<table border=\"1\" class=\"dataframe\">\n",
       "  <thead>\n",
       "    <tr style=\"text-align: right;\">\n",
       "      <th></th>\n",
       "      <th>Tỉnh/Thành</th>\n",
       "      <th>Giá trên m2</th>\n",
       "    </tr>\n",
       "  </thead>\n",
       "  <tbody>\n",
       "    <tr>\n",
       "      <th>0</th>\n",
       "      <td>An Giang</td>\n",
       "      <td>20.891429</td>\n",
       "    </tr>\n",
       "    <tr>\n",
       "      <th>1</th>\n",
       "      <td>Bà Rịa Vũng Tàu</td>\n",
       "      <td>30.136585</td>\n",
       "    </tr>\n",
       "    <tr>\n",
       "      <th>2</th>\n",
       "      <td>Bình Dương</td>\n",
       "      <td>40.251870</td>\n",
       "    </tr>\n",
       "    <tr>\n",
       "      <th>3</th>\n",
       "      <td>Bình Phước</td>\n",
       "      <td>3.979058</td>\n",
       "    </tr>\n",
       "    <tr>\n",
       "      <th>4</th>\n",
       "      <td>Bình Thuận</td>\n",
       "      <td>0.018023</td>\n",
       "    </tr>\n",
       "    <tr>\n",
       "      <th>5</th>\n",
       "      <td>Bình Định</td>\n",
       "      <td>66.666667</td>\n",
       "    </tr>\n",
       "    <tr>\n",
       "      <th>6</th>\n",
       "      <td>Bắc Ninh</td>\n",
       "      <td>45.555556</td>\n",
       "    </tr>\n",
       "    <tr>\n",
       "      <th>7</th>\n",
       "      <td>Bến Tre</td>\n",
       "      <td>28.000000</td>\n",
       "    </tr>\n",
       "    <tr>\n",
       "      <th>8</th>\n",
       "      <td>Cà Mau</td>\n",
       "      <td>28.125000</td>\n",
       "    </tr>\n",
       "    <tr>\n",
       "      <th>9</th>\n",
       "      <td>Cần Thơ</td>\n",
       "      <td>18.783784</td>\n",
       "    </tr>\n",
       "    <tr>\n",
       "      <th>10</th>\n",
       "      <td>Hà Nội</td>\n",
       "      <td>128.437186</td>\n",
       "    </tr>\n",
       "    <tr>\n",
       "      <th>11</th>\n",
       "      <td>Hưng Yên</td>\n",
       "      <td>125.862069</td>\n",
       "    </tr>\n",
       "    <tr>\n",
       "      <th>12</th>\n",
       "      <td>Hải Phòng</td>\n",
       "      <td>100.769481</td>\n",
       "    </tr>\n",
       "    <tr>\n",
       "      <th>13</th>\n",
       "      <td>Khánh Hòa</td>\n",
       "      <td>50.033898</td>\n",
       "    </tr>\n",
       "    <tr>\n",
       "      <th>14</th>\n",
       "      <td>Long An</td>\n",
       "      <td>8.171863</td>\n",
       "    </tr>\n",
       "    <tr>\n",
       "      <th>15</th>\n",
       "      <td>Lào Cai</td>\n",
       "      <td>54.336735</td>\n",
       "    </tr>\n",
       "    <tr>\n",
       "      <th>16</th>\n",
       "      <td>Lâm Đồng</td>\n",
       "      <td>50.981186</td>\n",
       "    </tr>\n",
       "    <tr>\n",
       "      <th>17</th>\n",
       "      <td>Ninh Bình</td>\n",
       "      <td>22.013889</td>\n",
       "    </tr>\n",
       "    <tr>\n",
       "      <th>18</th>\n",
       "      <td>Ninh Thuận</td>\n",
       "      <td>15.821885</td>\n",
       "    </tr>\n",
       "    <tr>\n",
       "      <th>19</th>\n",
       "      <td>Quảng Ninh</td>\n",
       "      <td>98.245614</td>\n",
       "    </tr>\n",
       "    <tr>\n",
       "      <th>20</th>\n",
       "      <td>Quảng Trị</td>\n",
       "      <td>6.802721</td>\n",
       "    </tr>\n",
       "    <tr>\n",
       "      <th>21</th>\n",
       "      <td>TP Hồ Chí Minh</td>\n",
       "      <td>69.605119</td>\n",
       "    </tr>\n",
       "    <tr>\n",
       "      <th>22</th>\n",
       "      <td>Thừa Thiên Huế</td>\n",
       "      <td>53.090486</td>\n",
       "    </tr>\n",
       "    <tr>\n",
       "      <th>23</th>\n",
       "      <td>Trà Vinh</td>\n",
       "      <td>2.123348</td>\n",
       "    </tr>\n",
       "    <tr>\n",
       "      <th>24</th>\n",
       "      <td>Tây Ninh</td>\n",
       "      <td>26.428571</td>\n",
       "    </tr>\n",
       "    <tr>\n",
       "      <th>25</th>\n",
       "      <td>Đà Nẵng</td>\n",
       "      <td>57.139666</td>\n",
       "    </tr>\n",
       "    <tr>\n",
       "      <th>26</th>\n",
       "      <td>Đồng Nai</td>\n",
       "      <td>28.816328</td>\n",
       "    </tr>\n",
       "  </tbody>\n",
       "</table>\n",
       "</div>"
      ],
      "text/plain": [
       "         Tỉnh/Thành  Giá trên m2\n",
       "0          An Giang    20.891429\n",
       "1   Bà Rịa Vũng Tàu    30.136585\n",
       "2        Bình Dương    40.251870\n",
       "3        Bình Phước     3.979058\n",
       "4        Bình Thuận     0.018023\n",
       "5         Bình Định    66.666667\n",
       "6          Bắc Ninh    45.555556\n",
       "7           Bến Tre    28.000000\n",
       "8            Cà Mau    28.125000\n",
       "9           Cần Thơ    18.783784\n",
       "10           Hà Nội   128.437186\n",
       "11         Hưng Yên   125.862069\n",
       "12        Hải Phòng   100.769481\n",
       "13        Khánh Hòa    50.033898\n",
       "14          Long An     8.171863\n",
       "15          Lào Cai    54.336735\n",
       "16         Lâm Đồng    50.981186\n",
       "17        Ninh Bình    22.013889\n",
       "18       Ninh Thuận    15.821885\n",
       "19       Quảng Ninh    98.245614\n",
       "20        Quảng Trị     6.802721\n",
       "21   TP Hồ Chí Minh    69.605119\n",
       "22   Thừa Thiên Huế    53.090486\n",
       "23         Trà Vinh     2.123348\n",
       "24         Tây Ninh    26.428571\n",
       "25          Đà Nẵng    57.139666\n",
       "26         Đồng Nai    28.816328"
      ]
     },
     "execution_count": 226,
     "metadata": {},
     "output_type": "execute_result"
    }
   ],
   "source": [
    "grouped_data = df.groupby(\"Tỉnh/Thành\").apply(lambda x: x['Giá'].sum() *1000 / x['Diện tích(m2)'].sum())\n",
    "TinhThanh_df = grouped_data.reset_index()\n",
    "TinhThanh_df.columns.values[1] = \"Giá trên m2\"\n",
    "TinhThanh_df"
   ]
  },
  {
   "cell_type": "code",
   "execution_count": 227,
   "metadata": {},
   "outputs": [
    {
     "data": {
      "text/html": [
       "<div>\n",
       "<style scoped>\n",
       "    .dataframe tbody tr th:only-of-type {\n",
       "        vertical-align: middle;\n",
       "    }\n",
       "\n",
       "    .dataframe tbody tr th {\n",
       "        vertical-align: top;\n",
       "    }\n",
       "\n",
       "    .dataframe thead th {\n",
       "        text-align: right;\n",
       "    }\n",
       "</style>\n",
       "<table border=\"1\" class=\"dataframe\">\n",
       "  <thead>\n",
       "    <tr style=\"text-align: right;\">\n",
       "      <th></th>\n",
       "      <th>Diện tích(m2)</th>\n",
       "      <th>Số phòng ngủ</th>\n",
       "      <th>Thời gian đăng</th>\n",
       "      <th>Tỉnh/Thành</th>\n",
       "      <th>Quận/Huyện</th>\n",
       "      <th>Loại nhà</th>\n",
       "      <th>Số phòng WC</th>\n",
       "      <th>Giá</th>\n",
       "    </tr>\n",
       "  </thead>\n",
       "  <tbody>\n",
       "    <tr>\n",
       "      <th>801</th>\n",
       "      <td>36.0</td>\n",
       "      <td>3.0</td>\n",
       "      <td>22/11/2023</td>\n",
       "      <td>Hà Nội</td>\n",
       "      <td>Tây Hồ</td>\n",
       "      <td>Bán Nhà riêng</td>\n",
       "      <td>2.0</td>\n",
       "      <td>3.30</td>\n",
       "    </tr>\n",
       "    <tr>\n",
       "      <th>802</th>\n",
       "      <td>33.0</td>\n",
       "      <td>3.0</td>\n",
       "      <td>22/11/2023</td>\n",
       "      <td>Hà Nội</td>\n",
       "      <td>Hà Đông</td>\n",
       "      <td>Bán Nhà riêng</td>\n",
       "      <td>4.0</td>\n",
       "      <td>3.70</td>\n",
       "    </tr>\n",
       "    <tr>\n",
       "      <th>803</th>\n",
       "      <td>72.0</td>\n",
       "      <td>3.0</td>\n",
       "      <td>22/11/2023</td>\n",
       "      <td>TP Hồ Chí Minh</td>\n",
       "      <td>Tân Phú</td>\n",
       "      <td>Bán Nhà riêng</td>\n",
       "      <td>3.0</td>\n",
       "      <td>6.85</td>\n",
       "    </tr>\n",
       "    <tr>\n",
       "      <th>804</th>\n",
       "      <td>70.0</td>\n",
       "      <td>3.0</td>\n",
       "      <td>22/11/2023</td>\n",
       "      <td>Bình Dương</td>\n",
       "      <td>Dĩ An</td>\n",
       "      <td>Bán Nhà riêng</td>\n",
       "      <td>2.0</td>\n",
       "      <td>2.90</td>\n",
       "    </tr>\n",
       "    <tr>\n",
       "      <th>805</th>\n",
       "      <td>73.0</td>\n",
       "      <td>5.0</td>\n",
       "      <td>22/11/2023</td>\n",
       "      <td>TP Hồ Chí Minh</td>\n",
       "      <td>Gò Vấp</td>\n",
       "      <td>Bán Nhà riêng</td>\n",
       "      <td>6.0</td>\n",
       "      <td>9.00</td>\n",
       "    </tr>\n",
       "  </tbody>\n",
       "</table>\n",
       "</div>"
      ],
      "text/plain": [
       "     Diện tích(m2)  Số phòng ngủ Thời gian đăng      Tỉnh/Thành Quận/Huyện  \\\n",
       "801           36.0           3.0     22/11/2023          Hà Nội     Tây Hồ   \n",
       "802           33.0           3.0     22/11/2023          Hà Nội    Hà Đông   \n",
       "803           72.0           3.0     22/11/2023  TP Hồ Chí Minh    Tân Phú   \n",
       "804           70.0           3.0     22/11/2023      Bình Dương      Dĩ An   \n",
       "805           73.0           5.0     22/11/2023  TP Hồ Chí Minh     Gò Vấp   \n",
       "\n",
       "          Loại nhà  Số phòng WC   Giá  \n",
       "801  Bán Nhà riêng          2.0  3.30  \n",
       "802  Bán Nhà riêng          4.0  3.70  \n",
       "803  Bán Nhà riêng          3.0  6.85  \n",
       "804  Bán Nhà riêng          2.0  2.90  \n",
       "805  Bán Nhà riêng          6.0  9.00  "
      ]
     },
     "execution_count": 227,
     "metadata": {},
     "output_type": "execute_result"
    }
   ],
   "source": [
    "df.head()"
   ]
  },
  {
   "cell_type": "markdown",
   "metadata": {},
   "source": [
    "### Encoding variable"
   ]
  },
  {
   "cell_type": "code",
   "execution_count": 228,
   "metadata": {},
   "outputs": [
    {
     "data": {
      "text/html": [
       "<div>\n",
       "<style scoped>\n",
       "    .dataframe tbody tr th:only-of-type {\n",
       "        vertical-align: middle;\n",
       "    }\n",
       "\n",
       "    .dataframe tbody tr th {\n",
       "        vertical-align: top;\n",
       "    }\n",
       "\n",
       "    .dataframe thead th {\n",
       "        text-align: right;\n",
       "    }\n",
       "</style>\n",
       "<table border=\"1\" class=\"dataframe\">\n",
       "  <thead>\n",
       "    <tr style=\"text-align: right;\">\n",
       "      <th></th>\n",
       "      <th>Diện tích(m2)</th>\n",
       "      <th>Số phòng ngủ</th>\n",
       "      <th>Thời gian đăng</th>\n",
       "      <th>Tỉnh/Thành</th>\n",
       "      <th>Quận/Huyện</th>\n",
       "      <th>Loại nhà</th>\n",
       "      <th>Số phòng WC</th>\n",
       "      <th>Giá</th>\n",
       "    </tr>\n",
       "  </thead>\n",
       "  <tbody>\n",
       "    <tr>\n",
       "      <th>801</th>\n",
       "      <td>36.0</td>\n",
       "      <td>3.0</td>\n",
       "      <td>115</td>\n",
       "      <td>10</td>\n",
       "      <td>86</td>\n",
       "      <td>4</td>\n",
       "      <td>2.0</td>\n",
       "      <td>3.30</td>\n",
       "    </tr>\n",
       "    <tr>\n",
       "      <th>802</th>\n",
       "      <td>33.0</td>\n",
       "      <td>3.0</td>\n",
       "      <td>115</td>\n",
       "      <td>10</td>\n",
       "      <td>32</td>\n",
       "      <td>4</td>\n",
       "      <td>4.0</td>\n",
       "      <td>3.70</td>\n",
       "    </tr>\n",
       "    <tr>\n",
       "      <th>803</th>\n",
       "      <td>72.0</td>\n",
       "      <td>3.0</td>\n",
       "      <td>115</td>\n",
       "      <td>21</td>\n",
       "      <td>84</td>\n",
       "      <td>4</td>\n",
       "      <td>3.0</td>\n",
       "      <td>6.85</td>\n",
       "    </tr>\n",
       "    <tr>\n",
       "      <th>804</th>\n",
       "      <td>70.0</td>\n",
       "      <td>3.0</td>\n",
       "      <td>115</td>\n",
       "      <td>2</td>\n",
       "      <td>23</td>\n",
       "      <td>4</td>\n",
       "      <td>2.0</td>\n",
       "      <td>2.90</td>\n",
       "    </tr>\n",
       "    <tr>\n",
       "      <th>805</th>\n",
       "      <td>73.0</td>\n",
       "      <td>5.0</td>\n",
       "      <td>115</td>\n",
       "      <td>21</td>\n",
       "      <td>26</td>\n",
       "      <td>4</td>\n",
       "      <td>6.0</td>\n",
       "      <td>9.00</td>\n",
       "    </tr>\n",
       "  </tbody>\n",
       "</table>\n",
       "</div>"
      ],
      "text/plain": [
       "     Diện tích(m2)  Số phòng ngủ  Thời gian đăng  Tỉnh/Thành  Quận/Huyện  \\\n",
       "801           36.0           3.0             115          10          86   \n",
       "802           33.0           3.0             115          10          32   \n",
       "803           72.0           3.0             115          21          84   \n",
       "804           70.0           3.0             115           2          23   \n",
       "805           73.0           5.0             115          21          26   \n",
       "\n",
       "     Loại nhà  Số phòng WC   Giá  \n",
       "801         4          2.0  3.30  \n",
       "802         4          4.0  3.70  \n",
       "803         4          3.0  6.85  \n",
       "804         4          2.0  2.90  \n",
       "805         4          6.0  9.00  "
      ]
     },
     "execution_count": 228,
     "metadata": {},
     "output_type": "execute_result"
    }
   ],
   "source": [
    "from sklearn.preprocessing import LabelEncoder\n",
    "\n",
    "le_time = LabelEncoder()\n",
    "df['Thời gian đăng'] = le_time.fit_transform(df['Thời gian đăng'])\n",
    "le_city = LabelEncoder()\n",
    "df['Tỉnh/Thành'] = le_city.fit_transform(df['Tỉnh/Thành'])\n",
    "le_district = LabelEncoder()\n",
    "df['Quận/Huyện'] = le_district.fit_transform(df['Quận/Huyện'])\n",
    "le_house_type = LabelEncoder()\n",
    "df['Loại nhà'] = le_house_type.fit_transform(df['Loại nhà'])\n",
    "\n",
    "df.head()"
   ]
  },
  {
   "cell_type": "markdown",
   "metadata": {},
   "source": [
    "### Scale dữ liệu về cùng tỉ lệ để đưa vào model"
   ]
  },
  {
   "cell_type": "code",
   "execution_count": 229,
   "metadata": {},
   "outputs": [],
   "source": [
    "from sklearn.preprocessing import StandardScaler\n",
    "\n",
    "scaler = StandardScaler()\n",
    "scaled_df = df.copy()\n",
    "for column in df.columns:\n",
    "  if column != 'Giá':\n",
    "    scaled_df[column] = scaler.fit_transform(df[[column]])"
   ]
  },
  {
   "cell_type": "code",
   "execution_count": 230,
   "metadata": {},
   "outputs": [],
   "source": [
    "X = df.drop(columns=['Giá']).values\n",
    "y = df['Giá'].values"
   ]
  },
  {
   "cell_type": "code",
   "execution_count": 231,
   "metadata": {},
   "outputs": [],
   "source": [
    "import sklearn\n",
    "from sklearn.model_selection import train_test_split\n",
    "from sklearn.metrics import r2_score, mean_absolute_error, mean_squared_error\n"
   ]
  },
  {
   "cell_type": "code",
   "execution_count": 232,
   "metadata": {},
   "outputs": [],
   "source": [
    "X_train, X_test, y_train, y_test = train_test_split(X, y, test_size=0.2, random_state=42)"
   ]
  },
  {
   "cell_type": "code",
   "execution_count": 233,
   "metadata": {},
   "outputs": [
    {
     "name": "stdout",
     "output_type": "stream",
     "text": [
      "(2679, 7)\n",
      "(670, 7)\n"
     ]
    }
   ],
   "source": [
    "print(X_train.shape)\n",
    "print(X_test.shape)"
   ]
  },
  {
   "cell_type": "markdown",
   "metadata": {},
   "source": [
    "### Xây dựng model Regression bằng pytorch"
   ]
  },
  {
   "cell_type": "code",
   "execution_count": 234,
   "metadata": {},
   "outputs": [],
   "source": [
    "X_train_tensor = torch.tensor(X_train, dtype=torch.float32)\n",
    "X_test_tensor = torch.tensor(X_test, dtype=torch.float32)\n",
    "y_train_tensor = torch.tensor(y_train, dtype=torch.float32).view(-1,1)\n",
    "y_test_tensor = torch.tensor(y_test, dtype=torch.float32).view(-1,1)"
   ]
  },
  {
   "cell_type": "code",
   "execution_count": 235,
   "metadata": {},
   "outputs": [],
   "source": [
    "class HousePriceModel(nn.Module):\n",
    "    def __init__(self, input_dim):\n",
    "        super(HousePriceModel, self).__init__()\n",
    "        self.fc1 = nn.Linear(input_dim, 64)\n",
    "        self.fc2 = nn.Linear(64, 32)\n",
    "        self.fc3 = nn.Linear(32, 1)\n",
    "        self.relu = nn.Sigmoid()\n",
    "\n",
    "    def forward(self, x):\n",
    "        x = torch.relu(self.fc1(x))\n",
    "        x = torch.relu(self.fc2(x))\n",
    "        x = self.fc3(x)\n",
    "        return x\n",
    "\n",
    "# Initialize the model\n",
    "input_dim = X_train_tensor.shape[1]\n",
    "model = HousePriceModel(input_dim)"
   ]
  },
  {
   "cell_type": "code",
   "execution_count": 236,
   "metadata": {},
   "outputs": [],
   "source": [
    "# Define loss function and optimizer\n",
    "criterion = nn.MSELoss()\n",
    "optimizer = optim.Adam(model.parameters(), lr=0.001)"
   ]
  },
  {
   "cell_type": "markdown",
   "metadata": {},
   "source": [
    "### Huấn luyện model"
   ]
  },
  {
   "cell_type": "code",
   "execution_count": 237,
   "metadata": {},
   "outputs": [
    {
     "name": "stdout",
     "output_type": "stream",
     "text": [
      "Epoch [100/1000], Loss: 12.0983\n",
      "Epoch [200/1000], Loss: 9.8673\n",
      "Epoch [300/1000], Loss: 8.9854\n",
      "Epoch [400/1000], Loss: 8.3911\n",
      "Epoch [500/1000], Loss: 8.0430\n",
      "Epoch [600/1000], Loss: 7.8485\n",
      "Epoch [700/1000], Loss: 7.7057\n",
      "Epoch [800/1000], Loss: 7.5937\n",
      "Epoch [900/1000], Loss: 7.5209\n",
      "Epoch [1000/1000], Loss: 7.4011\n"
     ]
    }
   ],
   "source": [
    "num_epochs = 1000\n",
    "for epoch in range(num_epochs):\n",
    "    model.train()\n",
    "    y_pred = model(X_train_tensor)\n",
    "    loss = criterion(y_pred, y_train_tensor)\n",
    "\n",
    "    optimizer.zero_grad()\n",
    "    loss.backward()\n",
    "    optimizer.step()\n",
    "\n",
    "    if (epoch+1) % 100 == 0:\n",
    "        print(f\"Epoch [{epoch+1}/{num_epochs}], Loss: {loss.item():.4f}\")\n"
   ]
  },
  {
   "cell_type": "code",
   "execution_count": 238,
   "metadata": {},
   "outputs": [
    {
     "name": "stdout",
     "output_type": "stream",
     "text": [
      "Mean Squared Error: 8.669855117797852\n",
      "Mean Absolute Error: 2.0471434593200684\n",
      "R² Score: 0.4446277190947844\n"
     ]
    }
   ],
   "source": [
    "model.eval()\n",
    "with torch.no_grad():\n",
    "    y_pred = model(X_test_tensor)\n",
    "    \n",
    "    mse = mean_squared_error(y_test_tensor.numpy(), y_pred.numpy())\n",
    "    mae = mean_absolute_error(y_test_tensor.numpy(), y_pred.numpy())\n",
    "    r2 = r2_score(y_test_tensor.numpy(), y_pred.numpy())\n",
    "\n",
    "print(f'Mean Squared Error: {mse}')\n",
    "print(f'Mean Absolute Error: {mae}')\n",
    "print(f'R² Score: {r2}')"
   ]
  },
  {
   "cell_type": "markdown",
   "metadata": {},
   "source": [
    "### Dùng thử các model khác "
   ]
  },
  {
   "cell_type": "code",
   "execution_count": 239,
   "metadata": {},
   "outputs": [],
   "source": [
    "\n",
    "from sklearn.linear_model import LinearRegression, Ridge, Lasso\n",
    "from sklearn.tree import DecisionTreeRegressor\n",
    "from sklearn.ensemble import RandomForestRegressor\n",
    "from sklearn.ensemble import GradientBoostingRegressor\n",
    "from sklearn.metrics import mean_squared_error, mean_absolute_error, r2_score"
   ]
  },
  {
   "cell_type": "code",
   "execution_count": 240,
   "metadata": {},
   "outputs": [
    {
     "name": "stdout",
     "output_type": "stream",
     "text": [
      "Model: LinearRegression\n",
      "Training performance:\n",
      "MSE: 11.8246\n",
      "MAE: 2.4689\n",
      "R2-score: 0.1736\n",
      "Testing performance:\n",
      "MSE: 11.4425\n",
      "MAE: 2.4839\n",
      "R2-score: 0.2670\n",
      "\n",
      "Model: Ridge\n",
      "Training performance:\n",
      "MSE: 11.8246\n",
      "MAE: 2.4689\n",
      "R2-score: 0.1736\n",
      "Testing performance:\n",
      "MSE: 11.4425\n",
      "MAE: 2.4839\n",
      "R2-score: 0.2670\n",
      "\n",
      "Model: Lasso\n",
      "Training performance:\n",
      "MSE: 11.8477\n",
      "MAE: 2.4758\n",
      "R2-score: 0.1720\n",
      "Testing performance:\n",
      "MSE: 11.5361\n",
      "MAE: 2.5098\n",
      "R2-score: 0.2610\n",
      "\n",
      "Model: DecisionTreeRegressor\n",
      "Training performance:\n",
      "MSE: 0.0012\n",
      "MAE: 0.0026\n",
      "R2-score: 0.9999\n",
      "Testing performance:\n",
      "MSE: 10.9605\n",
      "MAE: 1.9347\n",
      "R2-score: 0.2979\n",
      "\n",
      "Model: RandomForestRegressor\n",
      "Training performance:\n",
      "MSE: 0.8357\n",
      "MAE: 0.5895\n",
      "R2-score: 0.9416\n",
      "Testing performance:\n",
      "MSE: 5.5593\n",
      "MAE: 1.5319\n",
      "R2-score: 0.6439\n",
      "\n",
      "Model: GradientBoostingRegressor\n",
      "Training performance:\n",
      "MSE: 5.1805\n",
      "MAE: 1.5756\n",
      "R2-score: 0.6380\n",
      "Testing performance:\n",
      "MSE: 6.1178\n",
      "MAE: 1.6626\n",
      "R2-score: 0.6081\n",
      "\n"
     ]
    }
   ],
   "source": [
    "# Define list of models\n",
    "models = [\n",
    "    LinearRegression(),\n",
    "    Ridge(alpha=0.1, random_state=42),\n",
    "    Lasso(alpha=0.1, random_state=42),\n",
    "    DecisionTreeRegressor(random_state=42),\n",
    "    RandomForestRegressor(random_state=42),\n",
    "    GradientBoostingRegressor(random_state=42)\n",
    "]\n",
    "\n",
    "# Train and evaluate each model\n",
    "for model in models:\n",
    "    # Train model on the training data\n",
    "    model.fit(X_train, y_train)\n",
    "    \n",
    "    # Evaluate model on training data\n",
    "    train_preds = model.predict(X_train)\n",
    "    train_mse = mean_squared_error(y_train, train_preds)\n",
    "    train_mae = mean_absolute_error(y_train, train_preds)\n",
    "    train_r2 = r2_score(y_train, train_preds)\n",
    "\n",
    "    # Evaluate model on test data\n",
    "    test_preds = model.predict(X_test)\n",
    "    test_mse = mean_squared_error(y_test, test_preds)\n",
    "    test_mae = mean_absolute_error(y_test, test_preds)\n",
    "    test_r2 = r2_score(y_test, test_preds)\n",
    "\n",
    "    print(f\"Model: {model.__class__.__name__}\")\n",
    "    print(\"Training performance:\")\n",
    "    print(f\"MSE: {train_mse:.4f}\")\n",
    "    print(f\"MAE: {train_mae:.4f}\")\n",
    "    print(f\"R2-score: {train_r2:.4f}\")\n",
    "    print(\"Testing performance:\")\n",
    "    print(f\"MSE: {test_mse:.4f}\")\n",
    "    print(f\"MAE: {test_mae:.4f}\")\n",
    "    print(f\"R2-score: {test_r2:.4f}\")\n",
    "    print()"
   ]
  },
  {
   "cell_type": "markdown",
   "metadata": {},
   "source": [
    "### Hyperparameter tuning"
   ]
  },
  {
   "cell_type": "markdown",
   "metadata": {},
   "source": [
    "### Đánh giá Bias và Variance"
   ]
  },
  {
   "cell_type": "markdown",
   "metadata": {},
   "source": [
    "### Đánh giá các model bằng Cross-Validation"
   ]
  },
  {
   "cell_type": "code",
   "execution_count": null,
   "metadata": {},
   "outputs": [],
   "source": []
  }
 ],
 "metadata": {
  "kernelspec": {
   "display_name": "Python 3",
   "language": "python",
   "name": "python3"
  },
  "language_info": {
   "codemirror_mode": {
    "name": "ipython",
    "version": 3
   },
   "file_extension": ".py",
   "mimetype": "text/x-python",
   "name": "python",
   "nbconvert_exporter": "python",
   "pygments_lexer": "ipython3",
   "version": "3.11.8"
  }
 },
 "nbformat": 4,
 "nbformat_minor": 2
}
